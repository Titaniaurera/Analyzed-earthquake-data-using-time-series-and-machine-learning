{
 "cells": [
  {
   "cell_type": "code",
   "execution_count": 54,
   "id": "3713a5be",
   "metadata": {},
   "outputs": [],
   "source": [
    "import numpy as np\n",
    "import pandas as pd\n",
    "import matplotlib.pyplot as plt\n",
    "import seaborn as sns"
   ]
  },
  {
   "cell_type": "code",
   "execution_count": 55,
   "id": "c3390400",
   "metadata": {},
   "outputs": [
    {
     "data": {
      "text/html": [
       "<div>\n",
       "<style scoped>\n",
       "    .dataframe tbody tr th:only-of-type {\n",
       "        vertical-align: middle;\n",
       "    }\n",
       "\n",
       "    .dataframe tbody tr th {\n",
       "        vertical-align: top;\n",
       "    }\n",
       "\n",
       "    .dataframe thead th {\n",
       "        text-align: right;\n",
       "    }\n",
       "</style>\n",
       "<table border=\"1\" class=\"dataframe\">\n",
       "  <thead>\n",
       "    <tr style=\"text-align: right;\">\n",
       "      <th></th>\n",
       "      <th>title</th>\n",
       "      <th>magnitude</th>\n",
       "      <th>date_time</th>\n",
       "      <th>cdi</th>\n",
       "      <th>mmi</th>\n",
       "      <th>alert</th>\n",
       "      <th>tsunami</th>\n",
       "      <th>sig</th>\n",
       "      <th>net</th>\n",
       "      <th>nst</th>\n",
       "      <th>dmin</th>\n",
       "      <th>gap</th>\n",
       "      <th>magType</th>\n",
       "      <th>depth</th>\n",
       "      <th>latitude</th>\n",
       "      <th>longitude</th>\n",
       "      <th>location</th>\n",
       "      <th>continent</th>\n",
       "      <th>country</th>\n",
       "    </tr>\n",
       "  </thead>\n",
       "  <tbody>\n",
       "    <tr>\n",
       "      <th>0</th>\n",
       "      <td>M 7.0 - 18 km SW of Malango, Solomon Islands</td>\n",
       "      <td>7.0</td>\n",
       "      <td>22-11-2022 02:03</td>\n",
       "      <td>8</td>\n",
       "      <td>7</td>\n",
       "      <td>green</td>\n",
       "      <td>1</td>\n",
       "      <td>768</td>\n",
       "      <td>us</td>\n",
       "      <td>117</td>\n",
       "      <td>0.509</td>\n",
       "      <td>17.0</td>\n",
       "      <td>mww</td>\n",
       "      <td>14.000</td>\n",
       "      <td>-9.7963</td>\n",
       "      <td>159.596</td>\n",
       "      <td>Malango, Solomon Islands</td>\n",
       "      <td>Oceania</td>\n",
       "      <td>Solomon Islands</td>\n",
       "    </tr>\n",
       "    <tr>\n",
       "      <th>1</th>\n",
       "      <td>M 6.9 - 204 km SW of Bengkulu, Indonesia</td>\n",
       "      <td>6.9</td>\n",
       "      <td>18-11-2022 13:37</td>\n",
       "      <td>4</td>\n",
       "      <td>4</td>\n",
       "      <td>green</td>\n",
       "      <td>0</td>\n",
       "      <td>735</td>\n",
       "      <td>us</td>\n",
       "      <td>99</td>\n",
       "      <td>2.229</td>\n",
       "      <td>34.0</td>\n",
       "      <td>mww</td>\n",
       "      <td>25.000</td>\n",
       "      <td>-4.9559</td>\n",
       "      <td>100.738</td>\n",
       "      <td>Bengkulu, Indonesia</td>\n",
       "      <td>NaN</td>\n",
       "      <td>NaN</td>\n",
       "    </tr>\n",
       "    <tr>\n",
       "      <th>2</th>\n",
       "      <td>M 7.0 -</td>\n",
       "      <td>7.0</td>\n",
       "      <td>12-11-2022 07:09</td>\n",
       "      <td>3</td>\n",
       "      <td>3</td>\n",
       "      <td>green</td>\n",
       "      <td>1</td>\n",
       "      <td>755</td>\n",
       "      <td>us</td>\n",
       "      <td>147</td>\n",
       "      <td>3.125</td>\n",
       "      <td>18.0</td>\n",
       "      <td>mww</td>\n",
       "      <td>579.000</td>\n",
       "      <td>-20.0508</td>\n",
       "      <td>-178.346</td>\n",
       "      <td>NaN</td>\n",
       "      <td>Oceania</td>\n",
       "      <td>Fiji</td>\n",
       "    </tr>\n",
       "    <tr>\n",
       "      <th>3</th>\n",
       "      <td>M 7.3 - 205 km ESE of Neiafu, Tonga</td>\n",
       "      <td>7.3</td>\n",
       "      <td>11-11-2022 10:48</td>\n",
       "      <td>5</td>\n",
       "      <td>5</td>\n",
       "      <td>green</td>\n",
       "      <td>1</td>\n",
       "      <td>833</td>\n",
       "      <td>us</td>\n",
       "      <td>149</td>\n",
       "      <td>1.865</td>\n",
       "      <td>21.0</td>\n",
       "      <td>mww</td>\n",
       "      <td>37.000</td>\n",
       "      <td>-19.2918</td>\n",
       "      <td>-172.129</td>\n",
       "      <td>Neiafu, Tonga</td>\n",
       "      <td>NaN</td>\n",
       "      <td>NaN</td>\n",
       "    </tr>\n",
       "    <tr>\n",
       "      <th>4</th>\n",
       "      <td>M 6.6 -</td>\n",
       "      <td>6.6</td>\n",
       "      <td>09-11-2022 10:14</td>\n",
       "      <td>0</td>\n",
       "      <td>2</td>\n",
       "      <td>green</td>\n",
       "      <td>1</td>\n",
       "      <td>670</td>\n",
       "      <td>us</td>\n",
       "      <td>131</td>\n",
       "      <td>4.998</td>\n",
       "      <td>27.0</td>\n",
       "      <td>mww</td>\n",
       "      <td>624.464</td>\n",
       "      <td>-25.5948</td>\n",
       "      <td>178.278</td>\n",
       "      <td>NaN</td>\n",
       "      <td>NaN</td>\n",
       "      <td>NaN</td>\n",
       "    </tr>\n",
       "    <tr>\n",
       "      <th>...</th>\n",
       "      <td>...</td>\n",
       "      <td>...</td>\n",
       "      <td>...</td>\n",
       "      <td>...</td>\n",
       "      <td>...</td>\n",
       "      <td>...</td>\n",
       "      <td>...</td>\n",
       "      <td>...</td>\n",
       "      <td>...</td>\n",
       "      <td>...</td>\n",
       "      <td>...</td>\n",
       "      <td>...</td>\n",
       "      <td>...</td>\n",
       "      <td>...</td>\n",
       "      <td>...</td>\n",
       "      <td>...</td>\n",
       "      <td>...</td>\n",
       "      <td>...</td>\n",
       "      <td>...</td>\n",
       "    </tr>\n",
       "    <tr>\n",
       "      <th>777</th>\n",
       "      <td>M 7.7 - 28 km SSW of Puerto El Triunfo, El Sal...</td>\n",
       "      <td>7.7</td>\n",
       "      <td>13-01-2001 17:33</td>\n",
       "      <td>0</td>\n",
       "      <td>8</td>\n",
       "      <td>NaN</td>\n",
       "      <td>0</td>\n",
       "      <td>912</td>\n",
       "      <td>us</td>\n",
       "      <td>427</td>\n",
       "      <td>0.000</td>\n",
       "      <td>0.0</td>\n",
       "      <td>mwc</td>\n",
       "      <td>60.000</td>\n",
       "      <td>13.0490</td>\n",
       "      <td>-88.660</td>\n",
       "      <td>Puerto El Triunfo, El Salvador</td>\n",
       "      <td>NaN</td>\n",
       "      <td>NaN</td>\n",
       "    </tr>\n",
       "    <tr>\n",
       "      <th>778</th>\n",
       "      <td>M 6.9 - 47 km S of Old Harbor, Alaska</td>\n",
       "      <td>6.9</td>\n",
       "      <td>10-01-2001 16:02</td>\n",
       "      <td>5</td>\n",
       "      <td>7</td>\n",
       "      <td>NaN</td>\n",
       "      <td>0</td>\n",
       "      <td>745</td>\n",
       "      <td>ak</td>\n",
       "      <td>0</td>\n",
       "      <td>0.000</td>\n",
       "      <td>0.0</td>\n",
       "      <td>mw</td>\n",
       "      <td>36.400</td>\n",
       "      <td>56.7744</td>\n",
       "      <td>-153.281</td>\n",
       "      <td>Old Harbor, Alaska</td>\n",
       "      <td>North America</td>\n",
       "      <td>NaN</td>\n",
       "    </tr>\n",
       "    <tr>\n",
       "      <th>779</th>\n",
       "      <td>M 7.1 - 16 km NE of Port-Olry, Vanuatu</td>\n",
       "      <td>7.1</td>\n",
       "      <td>09-01-2001 16:49</td>\n",
       "      <td>0</td>\n",
       "      <td>7</td>\n",
       "      <td>NaN</td>\n",
       "      <td>0</td>\n",
       "      <td>776</td>\n",
       "      <td>us</td>\n",
       "      <td>372</td>\n",
       "      <td>0.000</td>\n",
       "      <td>0.0</td>\n",
       "      <td>mwb</td>\n",
       "      <td>103.000</td>\n",
       "      <td>-14.9280</td>\n",
       "      <td>167.170</td>\n",
       "      <td>Port-Olry, Vanuatu</td>\n",
       "      <td>NaN</td>\n",
       "      <td>Vanuatu</td>\n",
       "    </tr>\n",
       "    <tr>\n",
       "      <th>780</th>\n",
       "      <td>M 6.8 - Mindanao, Philippines</td>\n",
       "      <td>6.8</td>\n",
       "      <td>01-01-2001 08:54</td>\n",
       "      <td>0</td>\n",
       "      <td>5</td>\n",
       "      <td>NaN</td>\n",
       "      <td>0</td>\n",
       "      <td>711</td>\n",
       "      <td>us</td>\n",
       "      <td>64</td>\n",
       "      <td>0.000</td>\n",
       "      <td>0.0</td>\n",
       "      <td>mwc</td>\n",
       "      <td>33.000</td>\n",
       "      <td>6.6310</td>\n",
       "      <td>126.899</td>\n",
       "      <td>Mindanao, Philippines</td>\n",
       "      <td>NaN</td>\n",
       "      <td>NaN</td>\n",
       "    </tr>\n",
       "    <tr>\n",
       "      <th>781</th>\n",
       "      <td>M 7.5 - 21 km SE of Lukatan, Philippines</td>\n",
       "      <td>7.5</td>\n",
       "      <td>01-01-2001 06:57</td>\n",
       "      <td>0</td>\n",
       "      <td>7</td>\n",
       "      <td>NaN</td>\n",
       "      <td>0</td>\n",
       "      <td>865</td>\n",
       "      <td>us</td>\n",
       "      <td>324</td>\n",
       "      <td>0.000</td>\n",
       "      <td>0.0</td>\n",
       "      <td>mwc</td>\n",
       "      <td>33.000</td>\n",
       "      <td>6.8980</td>\n",
       "      <td>126.579</td>\n",
       "      <td>Lukatan, Philippines</td>\n",
       "      <td>NaN</td>\n",
       "      <td>Philippines</td>\n",
       "    </tr>\n",
       "  </tbody>\n",
       "</table>\n",
       "<p>782 rows × 19 columns</p>\n",
       "</div>"
      ],
      "text/plain": [
       "                                                 title  magnitude  \\\n",
       "0         M 7.0 - 18 km SW of Malango, Solomon Islands        7.0   \n",
       "1             M 6.9 - 204 km SW of Bengkulu, Indonesia        6.9   \n",
       "2                                             M 7.0 -         7.0   \n",
       "3                  M 7.3 - 205 km ESE of Neiafu, Tonga        7.3   \n",
       "4                                             M 6.6 -         6.6   \n",
       "..                                                 ...        ...   \n",
       "777  M 7.7 - 28 km SSW of Puerto El Triunfo, El Sal...        7.7   \n",
       "778              M 6.9 - 47 km S of Old Harbor, Alaska        6.9   \n",
       "779             M 7.1 - 16 km NE of Port-Olry, Vanuatu        7.1   \n",
       "780                      M 6.8 - Mindanao, Philippines        6.8   \n",
       "781           M 7.5 - 21 km SE of Lukatan, Philippines        7.5   \n",
       "\n",
       "            date_time  cdi  mmi  alert  tsunami  sig net  nst   dmin   gap  \\\n",
       "0    22-11-2022 02:03    8    7  green        1  768  us  117  0.509  17.0   \n",
       "1    18-11-2022 13:37    4    4  green        0  735  us   99  2.229  34.0   \n",
       "2    12-11-2022 07:09    3    3  green        1  755  us  147  3.125  18.0   \n",
       "3    11-11-2022 10:48    5    5  green        1  833  us  149  1.865  21.0   \n",
       "4    09-11-2022 10:14    0    2  green        1  670  us  131  4.998  27.0   \n",
       "..                ...  ...  ...    ...      ...  ...  ..  ...    ...   ...   \n",
       "777  13-01-2001 17:33    0    8    NaN        0  912  us  427  0.000   0.0   \n",
       "778  10-01-2001 16:02    5    7    NaN        0  745  ak    0  0.000   0.0   \n",
       "779  09-01-2001 16:49    0    7    NaN        0  776  us  372  0.000   0.0   \n",
       "780  01-01-2001 08:54    0    5    NaN        0  711  us   64  0.000   0.0   \n",
       "781  01-01-2001 06:57    0    7    NaN        0  865  us  324  0.000   0.0   \n",
       "\n",
       "    magType    depth  latitude  longitude                        location  \\\n",
       "0       mww   14.000   -9.7963    159.596        Malango, Solomon Islands   \n",
       "1       mww   25.000   -4.9559    100.738             Bengkulu, Indonesia   \n",
       "2       mww  579.000  -20.0508   -178.346                             NaN   \n",
       "3       mww   37.000  -19.2918   -172.129                   Neiafu, Tonga   \n",
       "4       mww  624.464  -25.5948    178.278                             NaN   \n",
       "..      ...      ...       ...        ...                             ...   \n",
       "777     mwc   60.000   13.0490    -88.660  Puerto El Triunfo, El Salvador   \n",
       "778      mw   36.400   56.7744   -153.281              Old Harbor, Alaska   \n",
       "779     mwb  103.000  -14.9280    167.170              Port-Olry, Vanuatu   \n",
       "780     mwc   33.000    6.6310    126.899           Mindanao, Philippines   \n",
       "781     mwc   33.000    6.8980    126.579            Lukatan, Philippines   \n",
       "\n",
       "         continent          country  \n",
       "0          Oceania  Solomon Islands  \n",
       "1              NaN              NaN  \n",
       "2          Oceania             Fiji  \n",
       "3              NaN              NaN  \n",
       "4              NaN              NaN  \n",
       "..             ...              ...  \n",
       "777            NaN              NaN  \n",
       "778  North America              NaN  \n",
       "779            NaN          Vanuatu  \n",
       "780            NaN              NaN  \n",
       "781            NaN      Philippines  \n",
       "\n",
       "[782 rows x 19 columns]"
      ]
     },
     "execution_count": 55,
     "metadata": {},
     "output_type": "execute_result"
    }
   ],
   "source": [
    "df = pd.read_csv(\"earthquake_data.csv\")\n",
    "df"
   ]
  },
  {
   "cell_type": "markdown",
   "id": "f64f8f75",
   "metadata": {},
   "source": [
    "### Preprocessing"
   ]
  },
  {
   "cell_type": "code",
   "execution_count": 56,
   "id": "d7c4d0e8",
   "metadata": {},
   "outputs": [
    {
     "data": {
      "text/plain": [
       "title          0\n",
       "magnitude      0\n",
       "date_time      0\n",
       "cdi            0\n",
       "mmi            0\n",
       "alert        367\n",
       "tsunami        0\n",
       "sig            0\n",
       "net            0\n",
       "nst            0\n",
       "dmin           0\n",
       "gap            0\n",
       "magType        0\n",
       "depth          0\n",
       "latitude       0\n",
       "longitude      0\n",
       "location       5\n",
       "continent    576\n",
       "country      298\n",
       "dtype: int64"
      ]
     },
     "execution_count": 56,
     "metadata": {},
     "output_type": "execute_result"
    }
   ],
   "source": [
    "df.isna().sum()"
   ]
  },
  {
   "cell_type": "code",
   "execution_count": 57,
   "id": "10720136",
   "metadata": {},
   "outputs": [
    {
     "name": "stdout",
     "output_type": "stream",
     "text": [
      "Number of records (rows) in the dataset are: 782\n",
      "Number of features (columns) in the dataset are: 19\n",
      "Number of duplicate entries in the dataset are: 0\n",
      "Number missing values in the dataset are: 1246\n"
     ]
    }
   ],
   "source": [
    "## Memeriksa dataset \n",
    "print(f'Number of records (rows) in the dataset are: {df.shape[0]}')\n",
    "print(f'Number of features (columns) in the dataset are: {df.shape[1]}')\n",
    "print(f'Number of duplicate entries in the dataset are: {df.duplicated().sum()}')\n",
    "print(f'Number missing values in the dataset are: {sum(df.isna().sum())}')"
   ]
  },
  {
   "cell_type": "code",
   "execution_count": 58,
   "id": "82b419cf",
   "metadata": {},
   "outputs": [
    {
     "data": {
      "text/html": [
       "<div>\n",
       "<style scoped>\n",
       "    .dataframe tbody tr th:only-of-type {\n",
       "        vertical-align: middle;\n",
       "    }\n",
       "\n",
       "    .dataframe tbody tr th {\n",
       "        vertical-align: top;\n",
       "    }\n",
       "\n",
       "    .dataframe thead th {\n",
       "        text-align: right;\n",
       "    }\n",
       "</style>\n",
       "<table border=\"1\" class=\"dataframe\">\n",
       "  <thead>\n",
       "    <tr style=\"text-align: right;\">\n",
       "      <th></th>\n",
       "      <th>latitude</th>\n",
       "      <th>longitude</th>\n",
       "      <th>magnitude</th>\n",
       "      <th>magType</th>\n",
       "      <th>depth</th>\n",
       "      <th>nst</th>\n",
       "      <th>gap</th>\n",
       "      <th>alert</th>\n",
       "    </tr>\n",
       "  </thead>\n",
       "  <tbody>\n",
       "    <tr>\n",
       "      <th>0</th>\n",
       "      <td>-9.7963</td>\n",
       "      <td>159.596</td>\n",
       "      <td>7.0</td>\n",
       "      <td>mww</td>\n",
       "      <td>14.000</td>\n",
       "      <td>117</td>\n",
       "      <td>17.0</td>\n",
       "      <td>green</td>\n",
       "    </tr>\n",
       "    <tr>\n",
       "      <th>1</th>\n",
       "      <td>-4.9559</td>\n",
       "      <td>100.738</td>\n",
       "      <td>6.9</td>\n",
       "      <td>mww</td>\n",
       "      <td>25.000</td>\n",
       "      <td>99</td>\n",
       "      <td>34.0</td>\n",
       "      <td>green</td>\n",
       "    </tr>\n",
       "    <tr>\n",
       "      <th>2</th>\n",
       "      <td>-20.0508</td>\n",
       "      <td>-178.346</td>\n",
       "      <td>7.0</td>\n",
       "      <td>mww</td>\n",
       "      <td>579.000</td>\n",
       "      <td>147</td>\n",
       "      <td>18.0</td>\n",
       "      <td>green</td>\n",
       "    </tr>\n",
       "    <tr>\n",
       "      <th>3</th>\n",
       "      <td>-19.2918</td>\n",
       "      <td>-172.129</td>\n",
       "      <td>7.3</td>\n",
       "      <td>mww</td>\n",
       "      <td>37.000</td>\n",
       "      <td>149</td>\n",
       "      <td>21.0</td>\n",
       "      <td>green</td>\n",
       "    </tr>\n",
       "    <tr>\n",
       "      <th>4</th>\n",
       "      <td>-25.5948</td>\n",
       "      <td>178.278</td>\n",
       "      <td>6.6</td>\n",
       "      <td>mww</td>\n",
       "      <td>624.464</td>\n",
       "      <td>131</td>\n",
       "      <td>27.0</td>\n",
       "      <td>green</td>\n",
       "    </tr>\n",
       "    <tr>\n",
       "      <th>...</th>\n",
       "      <td>...</td>\n",
       "      <td>...</td>\n",
       "      <td>...</td>\n",
       "      <td>...</td>\n",
       "      <td>...</td>\n",
       "      <td>...</td>\n",
       "      <td>...</td>\n",
       "      <td>...</td>\n",
       "    </tr>\n",
       "    <tr>\n",
       "      <th>777</th>\n",
       "      <td>13.0490</td>\n",
       "      <td>-88.660</td>\n",
       "      <td>7.7</td>\n",
       "      <td>mwc</td>\n",
       "      <td>60.000</td>\n",
       "      <td>427</td>\n",
       "      <td>0.0</td>\n",
       "      <td>NaN</td>\n",
       "    </tr>\n",
       "    <tr>\n",
       "      <th>778</th>\n",
       "      <td>56.7744</td>\n",
       "      <td>-153.281</td>\n",
       "      <td>6.9</td>\n",
       "      <td>mw</td>\n",
       "      <td>36.400</td>\n",
       "      <td>0</td>\n",
       "      <td>0.0</td>\n",
       "      <td>NaN</td>\n",
       "    </tr>\n",
       "    <tr>\n",
       "      <th>779</th>\n",
       "      <td>-14.9280</td>\n",
       "      <td>167.170</td>\n",
       "      <td>7.1</td>\n",
       "      <td>mwb</td>\n",
       "      <td>103.000</td>\n",
       "      <td>372</td>\n",
       "      <td>0.0</td>\n",
       "      <td>NaN</td>\n",
       "    </tr>\n",
       "    <tr>\n",
       "      <th>780</th>\n",
       "      <td>6.6310</td>\n",
       "      <td>126.899</td>\n",
       "      <td>6.8</td>\n",
       "      <td>mwc</td>\n",
       "      <td>33.000</td>\n",
       "      <td>64</td>\n",
       "      <td>0.0</td>\n",
       "      <td>NaN</td>\n",
       "    </tr>\n",
       "    <tr>\n",
       "      <th>781</th>\n",
       "      <td>6.8980</td>\n",
       "      <td>126.579</td>\n",
       "      <td>7.5</td>\n",
       "      <td>mwc</td>\n",
       "      <td>33.000</td>\n",
       "      <td>324</td>\n",
       "      <td>0.0</td>\n",
       "      <td>NaN</td>\n",
       "    </tr>\n",
       "  </tbody>\n",
       "</table>\n",
       "<p>782 rows × 8 columns</p>\n",
       "</div>"
      ],
      "text/plain": [
       "     latitude  longitude  magnitude magType    depth  nst   gap  alert\n",
       "0     -9.7963    159.596        7.0     mww   14.000  117  17.0  green\n",
       "1     -4.9559    100.738        6.9     mww   25.000   99  34.0  green\n",
       "2    -20.0508   -178.346        7.0     mww  579.000  147  18.0  green\n",
       "3    -19.2918   -172.129        7.3     mww   37.000  149  21.0  green\n",
       "4    -25.5948    178.278        6.6     mww  624.464  131  27.0  green\n",
       "..        ...        ...        ...     ...      ...  ...   ...    ...\n",
       "777   13.0490    -88.660        7.7     mwc   60.000  427   0.0    NaN\n",
       "778   56.7744   -153.281        6.9      mw   36.400    0   0.0    NaN\n",
       "779  -14.9280    167.170        7.1     mwb  103.000  372   0.0    NaN\n",
       "780    6.6310    126.899        6.8     mwc   33.000   64   0.0    NaN\n",
       "781    6.8980    126.579        7.5     mwc   33.000  324   0.0    NaN\n",
       "\n",
       "[782 rows x 8 columns]"
      ]
     },
     "execution_count": 58,
     "metadata": {},
     "output_type": "execute_result"
    }
   ],
   "source": [
    "data = df[['latitude', 'longitude', 'magnitude', 'magType', 'depth', 'nst', 'gap', 'alert']]\n",
    "data"
   ]
  },
  {
   "cell_type": "code",
   "execution_count": 59,
   "id": "f59d1c04",
   "metadata": {},
   "outputs": [
    {
     "data": {
      "text/html": [
       "<div>\n",
       "<style scoped>\n",
       "    .dataframe tbody tr th:only-of-type {\n",
       "        vertical-align: middle;\n",
       "    }\n",
       "\n",
       "    .dataframe tbody tr th {\n",
       "        vertical-align: top;\n",
       "    }\n",
       "\n",
       "    .dataframe thead th {\n",
       "        text-align: right;\n",
       "    }\n",
       "</style>\n",
       "<table border=\"1\" class=\"dataframe\">\n",
       "  <thead>\n",
       "    <tr style=\"text-align: right;\">\n",
       "      <th></th>\n",
       "      <th>latitude</th>\n",
       "      <th>longitude</th>\n",
       "      <th>magnitude</th>\n",
       "      <th>magType</th>\n",
       "      <th>depth</th>\n",
       "      <th>nst</th>\n",
       "      <th>gap</th>\n",
       "      <th>alert</th>\n",
       "    </tr>\n",
       "  </thead>\n",
       "  <tbody>\n",
       "    <tr>\n",
       "      <th>0</th>\n",
       "      <td>-9.7963</td>\n",
       "      <td>159.596</td>\n",
       "      <td>7.0</td>\n",
       "      <td>mww</td>\n",
       "      <td>14.000</td>\n",
       "      <td>117</td>\n",
       "      <td>17.0</td>\n",
       "      <td>green</td>\n",
       "    </tr>\n",
       "    <tr>\n",
       "      <th>1</th>\n",
       "      <td>-4.9559</td>\n",
       "      <td>100.738</td>\n",
       "      <td>6.9</td>\n",
       "      <td>mww</td>\n",
       "      <td>25.000</td>\n",
       "      <td>99</td>\n",
       "      <td>34.0</td>\n",
       "      <td>green</td>\n",
       "    </tr>\n",
       "    <tr>\n",
       "      <th>2</th>\n",
       "      <td>-20.0508</td>\n",
       "      <td>-178.346</td>\n",
       "      <td>7.0</td>\n",
       "      <td>mww</td>\n",
       "      <td>579.000</td>\n",
       "      <td>147</td>\n",
       "      <td>18.0</td>\n",
       "      <td>green</td>\n",
       "    </tr>\n",
       "    <tr>\n",
       "      <th>3</th>\n",
       "      <td>-19.2918</td>\n",
       "      <td>-172.129</td>\n",
       "      <td>7.3</td>\n",
       "      <td>mww</td>\n",
       "      <td>37.000</td>\n",
       "      <td>149</td>\n",
       "      <td>21.0</td>\n",
       "      <td>green</td>\n",
       "    </tr>\n",
       "    <tr>\n",
       "      <th>4</th>\n",
       "      <td>-25.5948</td>\n",
       "      <td>178.278</td>\n",
       "      <td>6.6</td>\n",
       "      <td>mww</td>\n",
       "      <td>624.464</td>\n",
       "      <td>131</td>\n",
       "      <td>27.0</td>\n",
       "      <td>green</td>\n",
       "    </tr>\n",
       "    <tr>\n",
       "      <th>...</th>\n",
       "      <td>...</td>\n",
       "      <td>...</td>\n",
       "      <td>...</td>\n",
       "      <td>...</td>\n",
       "      <td>...</td>\n",
       "      <td>...</td>\n",
       "      <td>...</td>\n",
       "      <td>...</td>\n",
       "    </tr>\n",
       "    <tr>\n",
       "      <th>416</th>\n",
       "      <td>-28.0940</td>\n",
       "      <td>-70.653</td>\n",
       "      <td>6.8</td>\n",
       "      <td>mww</td>\n",
       "      <td>45.000</td>\n",
       "      <td>596</td>\n",
       "      <td>19.3</td>\n",
       "      <td>green</td>\n",
       "    </tr>\n",
       "    <tr>\n",
       "      <th>423</th>\n",
       "      <td>13.9880</td>\n",
       "      <td>-91.895</td>\n",
       "      <td>7.4</td>\n",
       "      <td>mww</td>\n",
       "      <td>24.000</td>\n",
       "      <td>751</td>\n",
       "      <td>25.5</td>\n",
       "      <td>yellow</td>\n",
       "    </tr>\n",
       "    <tr>\n",
       "      <th>440</th>\n",
       "      <td>0.8020</td>\n",
       "      <td>92.463</td>\n",
       "      <td>8.2</td>\n",
       "      <td>mwc</td>\n",
       "      <td>25.100</td>\n",
       "      <td>341</td>\n",
       "      <td>14.9</td>\n",
       "      <td>green</td>\n",
       "    </tr>\n",
       "    <tr>\n",
       "      <th>441</th>\n",
       "      <td>2.3270</td>\n",
       "      <td>93.063</td>\n",
       "      <td>8.6</td>\n",
       "      <td>mw</td>\n",
       "      <td>20.000</td>\n",
       "      <td>499</td>\n",
       "      <td>16.6</td>\n",
       "      <td>yellow</td>\n",
       "    </tr>\n",
       "    <tr>\n",
       "      <th>507</th>\n",
       "      <td>32.2862</td>\n",
       "      <td>-115.295</td>\n",
       "      <td>7.2</td>\n",
       "      <td>mw</td>\n",
       "      <td>9.987</td>\n",
       "      <td>10</td>\n",
       "      <td>239.0</td>\n",
       "      <td>red</td>\n",
       "    </tr>\n",
       "  </tbody>\n",
       "</table>\n",
       "<p>415 rows × 8 columns</p>\n",
       "</div>"
      ],
      "text/plain": [
       "     latitude  longitude  magnitude magType    depth  nst    gap   alert\n",
       "0     -9.7963    159.596        7.0     mww   14.000  117   17.0   green\n",
       "1     -4.9559    100.738        6.9     mww   25.000   99   34.0   green\n",
       "2    -20.0508   -178.346        7.0     mww  579.000  147   18.0   green\n",
       "3    -19.2918   -172.129        7.3     mww   37.000  149   21.0   green\n",
       "4    -25.5948    178.278        6.6     mww  624.464  131   27.0   green\n",
       "..        ...        ...        ...     ...      ...  ...    ...     ...\n",
       "416  -28.0940    -70.653        6.8     mww   45.000  596   19.3   green\n",
       "423   13.9880    -91.895        7.4     mww   24.000  751   25.5  yellow\n",
       "440    0.8020     92.463        8.2     mwc   25.100  341   14.9   green\n",
       "441    2.3270     93.063        8.6      mw   20.000  499   16.6  yellow\n",
       "507   32.2862   -115.295        7.2      mw    9.987   10  239.0     red\n",
       "\n",
       "[415 rows x 8 columns]"
      ]
     },
     "execution_count": 59,
     "metadata": {},
     "output_type": "execute_result"
    }
   ],
   "source": [
    "dt= data.dropna()\n",
    "dt"
   ]
  },
  {
   "cell_type": "code",
   "execution_count": 60,
   "id": "9b86e8ad",
   "metadata": {},
   "outputs": [
    {
     "data": {
      "text/plain": [
       "latitude     0\n",
       "longitude    0\n",
       "magnitude    0\n",
       "magType      0\n",
       "depth        0\n",
       "nst          0\n",
       "gap          0\n",
       "alert        0\n",
       "dtype: int64"
      ]
     },
     "execution_count": 60,
     "metadata": {},
     "output_type": "execute_result"
    }
   ],
   "source": [
    "dt.isna().sum()"
   ]
  },
  {
   "cell_type": "code",
   "execution_count": 61,
   "id": "54c75eff",
   "metadata": {},
   "outputs": [
    {
     "name": "stdout",
     "output_type": "stream",
     "text": [
      "<class 'pandas.core.frame.DataFrame'>\n",
      "Int64Index: 415 entries, 0 to 507\n",
      "Data columns (total 8 columns):\n",
      " #   Column     Non-Null Count  Dtype  \n",
      "---  ------     --------------  -----  \n",
      " 0   latitude   415 non-null    float64\n",
      " 1   longitude  415 non-null    float64\n",
      " 2   magnitude  415 non-null    float64\n",
      " 3   magType    415 non-null    object \n",
      " 4   depth      415 non-null    float64\n",
      " 5   nst        415 non-null    int64  \n",
      " 6   gap        415 non-null    float64\n",
      " 7   alert      415 non-null    object \n",
      "dtypes: float64(5), int64(1), object(2)\n",
      "memory usage: 29.2+ KB\n"
     ]
    }
   ],
   "source": [
    "dt.info()"
   ]
  },
  {
   "cell_type": "code",
   "execution_count": 62,
   "id": "f3ebdb27",
   "metadata": {},
   "outputs": [
    {
     "name": "stderr",
     "output_type": "stream",
     "text": [
      "C:\\Users\\Asus\\AppData\\Local\\Temp\\ipykernel_9800\\237020220.py:8: SettingWithCopyWarning: \n",
      "A value is trying to be set on a copy of a slice from a DataFrame.\n",
      "Try using .loc[row_indexer,col_indexer] = value instead\n",
      "\n",
      "See the caveats in the documentation: https://pandas.pydata.org/pandas-docs/stable/user_guide/indexing.html#returning-a-view-versus-a-copy\n",
      "  dt['magType'] = label_encoder.fit_transform(dt['magType'])\n",
      "C:\\Users\\Asus\\AppData\\Local\\Temp\\ipykernel_9800\\237020220.py:11: SettingWithCopyWarning: \n",
      "A value is trying to be set on a copy of a slice from a DataFrame.\n",
      "Try using .loc[row_indexer,col_indexer] = value instead\n",
      "\n",
      "See the caveats in the documentation: https://pandas.pydata.org/pandas-docs/stable/user_guide/indexing.html#returning-a-view-versus-a-copy\n",
      "  dt['alert'] = label_encoder.fit_transform(dt['alert'])\n"
     ]
    },
    {
     "name": "stdout",
     "output_type": "stream",
     "text": [
      "Outliers berdasarkan Z-Score:\n"
     ]
    },
    {
     "data": {
      "text/html": [
       "<div>\n",
       "<style scoped>\n",
       "    .dataframe tbody tr th:only-of-type {\n",
       "        vertical-align: middle;\n",
       "    }\n",
       "\n",
       "    .dataframe tbody tr th {\n",
       "        vertical-align: top;\n",
       "    }\n",
       "\n",
       "    .dataframe thead th {\n",
       "        text-align: right;\n",
       "    }\n",
       "</style>\n",
       "<table border=\"1\" class=\"dataframe\">\n",
       "  <thead>\n",
       "    <tr style=\"text-align: right;\">\n",
       "      <th></th>\n",
       "      <th>latitude</th>\n",
       "      <th>longitude</th>\n",
       "      <th>magnitude</th>\n",
       "      <th>magType</th>\n",
       "      <th>depth</th>\n",
       "      <th>nst</th>\n",
       "      <th>gap</th>\n",
       "      <th>alert</th>\n",
       "    </tr>\n",
       "  </thead>\n",
       "  <tbody>\n",
       "    <tr>\n",
       "      <th>0</th>\n",
       "      <td>-9.7963</td>\n",
       "      <td>159.5960</td>\n",
       "      <td>7.0</td>\n",
       "      <td>4</td>\n",
       "      <td>14.0</td>\n",
       "      <td>117</td>\n",
       "      <td>17.0</td>\n",
       "      <td>0</td>\n",
       "    </tr>\n",
       "    <tr>\n",
       "      <th>1</th>\n",
       "      <td>-4.9559</td>\n",
       "      <td>100.7380</td>\n",
       "      <td>6.9</td>\n",
       "      <td>4</td>\n",
       "      <td>25.0</td>\n",
       "      <td>99</td>\n",
       "      <td>34.0</td>\n",
       "      <td>0</td>\n",
       "    </tr>\n",
       "    <tr>\n",
       "      <th>2</th>\n",
       "      <td>-20.0508</td>\n",
       "      <td>-178.3460</td>\n",
       "      <td>7.0</td>\n",
       "      <td>4</td>\n",
       "      <td>579.0</td>\n",
       "      <td>147</td>\n",
       "      <td>18.0</td>\n",
       "      <td>0</td>\n",
       "    </tr>\n",
       "    <tr>\n",
       "      <th>3</th>\n",
       "      <td>-19.2918</td>\n",
       "      <td>-172.1290</td>\n",
       "      <td>7.3</td>\n",
       "      <td>4</td>\n",
       "      <td>37.0</td>\n",
       "      <td>149</td>\n",
       "      <td>21.0</td>\n",
       "      <td>0</td>\n",
       "    </tr>\n",
       "    <tr>\n",
       "      <th>7</th>\n",
       "      <td>7.6712</td>\n",
       "      <td>-82.3396</td>\n",
       "      <td>6.7</td>\n",
       "      <td>4</td>\n",
       "      <td>20.0</td>\n",
       "      <td>145</td>\n",
       "      <td>37.0</td>\n",
       "      <td>0</td>\n",
       "    </tr>\n",
       "    <tr>\n",
       "      <th>...</th>\n",
       "      <td>...</td>\n",
       "      <td>...</td>\n",
       "      <td>...</td>\n",
       "      <td>...</td>\n",
       "      <td>...</td>\n",
       "      <td>...</td>\n",
       "      <td>...</td>\n",
       "      <td>...</td>\n",
       "    </tr>\n",
       "    <tr>\n",
       "      <th>409</th>\n",
       "      <td>-10.9280</td>\n",
       "      <td>166.0180</td>\n",
       "      <td>7.1</td>\n",
       "      <td>4</td>\n",
       "      <td>21.0</td>\n",
       "      <td>334</td>\n",
       "      <td>16.5</td>\n",
       "      <td>0</td>\n",
       "    </tr>\n",
       "    <tr>\n",
       "      <th>410</th>\n",
       "      <td>-10.8380</td>\n",
       "      <td>165.9690</td>\n",
       "      <td>6.8</td>\n",
       "      <td>4</td>\n",
       "      <td>12.0</td>\n",
       "      <td>400</td>\n",
       "      <td>17.5</td>\n",
       "      <td>0</td>\n",
       "    </tr>\n",
       "    <tr>\n",
       "      <th>411</th>\n",
       "      <td>-10.9970</td>\n",
       "      <td>165.6550</td>\n",
       "      <td>6.7</td>\n",
       "      <td>4</td>\n",
       "      <td>11.0</td>\n",
       "      <td>387</td>\n",
       "      <td>26.5</td>\n",
       "      <td>0</td>\n",
       "    </tr>\n",
       "    <tr>\n",
       "      <th>412</th>\n",
       "      <td>-10.4990</td>\n",
       "      <td>165.5880</td>\n",
       "      <td>7.0</td>\n",
       "      <td>4</td>\n",
       "      <td>8.8</td>\n",
       "      <td>445</td>\n",
       "      <td>17.5</td>\n",
       "      <td>0</td>\n",
       "    </tr>\n",
       "    <tr>\n",
       "      <th>414</th>\n",
       "      <td>-10.7990</td>\n",
       "      <td>165.1140</td>\n",
       "      <td>8.0</td>\n",
       "      <td>4</td>\n",
       "      <td>24.0</td>\n",
       "      <td>460</td>\n",
       "      <td>20.9</td>\n",
       "      <td>0</td>\n",
       "    </tr>\n",
       "  </tbody>\n",
       "</table>\n",
       "<p>364 rows × 8 columns</p>\n",
       "</div>"
      ],
      "text/plain": [
       "     latitude  longitude  magnitude  magType  depth  nst   gap  alert\n",
       "0     -9.7963   159.5960        7.0        4   14.0  117  17.0      0\n",
       "1     -4.9559   100.7380        6.9        4   25.0   99  34.0      0\n",
       "2    -20.0508  -178.3460        7.0        4  579.0  147  18.0      0\n",
       "3    -19.2918  -172.1290        7.3        4   37.0  149  21.0      0\n",
       "7      7.6712   -82.3396        6.7        4   20.0  145  37.0      0\n",
       "..        ...        ...        ...      ...    ...  ...   ...    ...\n",
       "409  -10.9280   166.0180        7.1        4   21.0  334  16.5      0\n",
       "410  -10.8380   165.9690        6.8        4   12.0  400  17.5      0\n",
       "411  -10.9970   165.6550        6.7        4   11.0  387  26.5      0\n",
       "412  -10.4990   165.5880        7.0        4    8.8  445  17.5      0\n",
       "414  -10.7990   165.1140        8.0        4   24.0  460  20.9      0\n",
       "\n",
       "[364 rows x 8 columns]"
      ]
     },
     "execution_count": 62,
     "metadata": {},
     "output_type": "execute_result"
    }
   ],
   "source": [
    "from scipy import stats\n",
    "from sklearn.preprocessing import LabelEncoder\n",
    "\n",
    "# Inisialisasi LabelEncoder\n",
    "label_encoder = LabelEncoder()\n",
    "\n",
    "# Melakukan label encoding pada kolom 'magType'\n",
    "dt['magType'] = label_encoder.fit_transform(dt['magType'])\n",
    "\n",
    "# Melakukan label encoding pada kolom 'alert'\n",
    "dt['alert'] = label_encoder.fit_transform(dt['alert'])\n",
    "\n",
    "# dt = dt.astype(int)\n",
    "\n",
    "# Memilih hanya kolom-kolom numerik\n",
    "numeric_columns = dt.select_dtypes(include=[np.number])\n",
    "\n",
    "# Deteksi outliers menggunakan Z-score pada kolom numerik\n",
    "z_scores = stats.zscore(numeric_columns)\n",
    "abs_z_scores = np.abs(z_scores)\n",
    "filtered_entries = (abs_z_scores < 3).all(axis=1)\n",
    "print(\"Outliers berdasarkan Z-Score:\")\n",
    "dt[filtered_entries]"
   ]
  },
  {
   "cell_type": "code",
   "execution_count": 63,
   "id": "28e50e05",
   "metadata": {},
   "outputs": [],
   "source": [
    "#deteksi outlier\n",
    "def persentase_outlier(df):\n",
    "    for kolom in df.columns:\n",
    "        q1 = df[kolom].quantile(0.25)\n",
    "        q3 = df[kolom].quantile(0.75)\n",
    "        rentang_interkuartil = q3 - q1\n",
    "\n",
    "        batas_atas = q3 + (rentang_interkuartil * 1.5)\n",
    "        batas_bawah = q1 - (rentang_interkuartil * 1.5)\n",
    "\n",
    "        persentase = (((len(df[df[kolom] > batas_atas])) +\n",
    "                      (len(df[df[kolom] < batas_bawah]))) / len(df[kolom])) * 100\n",
    "\n",
    "        print(f\"{kolom} : {persentase:.2f} %\")"
   ]
  },
  {
   "cell_type": "code",
   "execution_count": 64,
   "id": "3d80cd4f",
   "metadata": {},
   "outputs": [
    {
     "name": "stdout",
     "output_type": "stream",
     "text": [
      "latitude : 0.00 %\n",
      "longitude : 0.00 %\n",
      "magnitude : 4.34 %\n",
      "magType : 3.61 %\n",
      "depth : 13.98 %\n",
      "nst : 14.70 %\n",
      "gap : 6.51 %\n",
      "alert : 21.69 %\n"
     ]
    }
   ],
   "source": [
    "#presentase outlier\n",
    "persentase_outlier(dt)"
   ]
  },
  {
   "cell_type": "code",
   "execution_count": 65,
   "id": "9ca5f9aa",
   "metadata": {},
   "outputs": [],
   "source": [
    "def ganti_outlier_batas_ekstrim(st, kolom):\n",
    "    q1 = st[kolom].quantile(0.25)\n",
    "    q3 = st[kolom].quantile(0.75)\n",
    "    rentang_interkuartil = q3 - q1\n",
    "\n",
    "    batas_atas = q3 + (rentang_interkuartil * 1.5)\n",
    "    batas_bawah = q1 - (rentang_interkuartil * 1.5)\n",
    "\n",
    "    st[kolom].mask(st[kolom] > batas_atas, batas_atas, inplace=True)\n",
    "    st[kolom].mask(st[kolom] < batas_bawah, batas_bawah, inplace=True)"
   ]
  },
  {
   "cell_type": "code",
   "execution_count": 66,
   "id": "71401364",
   "metadata": {},
   "outputs": [
    {
     "data": {
      "image/png": "[encoded data removed]",
      "text/plain": [
       "<Figure size 640x480 with 1 Axes>"
      ]
     },
     "metadata": {},
     "output_type": "display_data"
    }
   ],
   "source": [
    "#replace outlier pada kolom pregnancies\n",
    "sns.boxplot(dt['magnitude'], orient = 'h', color = '#FF5B00');"
   ]
  },
  {
   "cell_type": "code",
   "execution_count": 67,
   "id": "abb7e063",
   "metadata": {},
   "outputs": [
    {
     "name": "stderr",
     "output_type": "stream",
     "text": [
      "C:\\Users\\Asus\\AppData\\Local\\Temp\\ipykernel_9800\\989073807.py:9: SettingWithCopyWarning: \n",
      "A value is trying to be set on a copy of a slice from a DataFrame\n",
      "\n",
      "See the caveats in the documentation: https://pandas.pydata.org/pandas-docs/stable/user_guide/indexing.html#returning-a-view-versus-a-copy\n",
      "  st[kolom].mask(st[kolom] > batas_atas, batas_atas, inplace=True)\n",
      "C:\\Users\\Asus\\AppData\\Local\\Temp\\ipykernel_9800\\989073807.py:10: SettingWithCopyWarning: \n",
      "A value is trying to be set on a copy of a slice from a DataFrame\n",
      "\n",
      "See the caveats in the documentation: https://pandas.pydata.org/pandas-docs/stable/user_guide/indexing.html#returning-a-view-versus-a-copy\n",
      "  st[kolom].mask(st[kolom] < batas_bawah, batas_bawah, inplace=True)\n"
     ]
    }
   ],
   "source": [
    "ganti_outlier_batas_ekstrim(dt,'magnitude')"
   ]
  },
  {
   "cell_type": "code",
   "execution_count": 68,
   "id": "94344efb",
   "metadata": {},
   "outputs": [
    {
     "data": {
      "image/png": "[encoded data removed]",
      "text/plain": [
       "<Figure size 640x480 with 1 Axes>"
      ]
     },
     "metadata": {},
     "output_type": "display_data"
    }
   ],
   "source": [
    "sns.boxplot(dt['magnitude'], orient = 'h', color = '#D4D925');"
   ]
  },
  {
   "cell_type": "code",
   "execution_count": 69,
   "id": "08ca02ef",
   "metadata": {},
   "outputs": [
    {
     "data": {
      "image/png": "[encoded data removed]",
      "text/plain": [
       "<Figure size 640x480 with 1 Axes>"
      ]
     },
     "metadata": {},
     "output_type": "display_data"
    }
   ],
   "source": [
    "#replace outlier pada kolom pregnancies\n",
    "sns.boxplot(dt['depth'], orient = 'h', color = '#FF5B00');"
   ]
  },
  {
   "cell_type": "code",
   "execution_count": 70,
   "id": "ff6b21ba",
   "metadata": {},
   "outputs": [
    {
     "name": "stderr",
     "output_type": "stream",
     "text": [
      "C:\\Users\\Asus\\AppData\\Local\\Temp\\ipykernel_9800\\989073807.py:9: SettingWithCopyWarning: \n",
      "A value is trying to be set on a copy of a slice from a DataFrame\n",
      "\n",
      "See the caveats in the documentation: https://pandas.pydata.org/pandas-docs/stable/user_guide/indexing.html#returning-a-view-versus-a-copy\n",
      "  st[kolom].mask(st[kolom] > batas_atas, batas_atas, inplace=True)\n",
      "C:\\Users\\Asus\\AppData\\Local\\Temp\\ipykernel_9800\\989073807.py:10: SettingWithCopyWarning: \n",
      "A value is trying to be set on a copy of a slice from a DataFrame\n",
      "\n",
      "See the caveats in the documentation: https://pandas.pydata.org/pandas-docs/stable/user_guide/indexing.html#returning-a-view-versus-a-copy\n",
      "  st[kolom].mask(st[kolom] < batas_bawah, batas_bawah, inplace=True)\n"
     ]
    }
   ],
   "source": [
    "ganti_outlier_batas_ekstrim(dt,'depth')"
   ]
  },
  {
   "cell_type": "code",
   "execution_count": 71,
   "id": "b4512800",
   "metadata": {},
   "outputs": [
    {
     "data": {
      "image/png": "[encoded data removed]",
      "text/plain": [
       "<Figure size 640x480 with 1 Axes>"
      ]
     },
     "metadata": {},
     "output_type": "display_data"
    }
   ],
   "source": [
    "#replace outlier pada kolom pregnancies\n",
    "sns.boxplot(dt['depth'], orient = 'h', color = '#FF5B00');"
   ]
  },
  {
   "cell_type": "code",
   "execution_count": 72,
   "id": "9a75e0e7",
   "metadata": {},
   "outputs": [
    {
     "data": {
      "image/png": "[encoded data removed]",
      "text/plain": [
       "<Figure size 640x480 with 1 Axes>"
      ]
     },
     "metadata": {},
     "output_type": "display_data"
    }
   ],
   "source": [
    "#replace outlier pada kolom pregnancies\n",
    "sns.boxplot(dt['gap'], orient = 'h', color = '#FF5B00');"
   ]
  },
  {
   "cell_type": "code",
   "execution_count": 73,
   "id": "5e534639",
   "metadata": {},
   "outputs": [
    {
     "name": "stderr",
     "output_type": "stream",
     "text": [
      "C:\\Users\\Asus\\AppData\\Local\\Temp\\ipykernel_9800\\989073807.py:9: SettingWithCopyWarning: \n",
      "A value is trying to be set on a copy of a slice from a DataFrame\n",
      "\n",
      "See the caveats in the documentation: https://pandas.pydata.org/pandas-docs/stable/user_guide/indexing.html#returning-a-view-versus-a-copy\n",
      "  st[kolom].mask(st[kolom] > batas_atas, batas_atas, inplace=True)\n",
      "C:\\Users\\Asus\\AppData\\Local\\Temp\\ipykernel_9800\\989073807.py:10: SettingWithCopyWarning: \n",
      "A value is trying to be set on a copy of a slice from a DataFrame\n",
      "\n",
      "See the caveats in the documentation: https://pandas.pydata.org/pandas-docs/stable/user_guide/indexing.html#returning-a-view-versus-a-copy\n",
      "  st[kolom].mask(st[kolom] < batas_bawah, batas_bawah, inplace=True)\n"
     ]
    }
   ],
   "source": [
    "ganti_outlier_batas_ekstrim(dt,'gap')"
   ]
  },
  {
   "cell_type": "code",
   "execution_count": 74,
   "id": "477b725c",
   "metadata": {},
   "outputs": [
    {
     "data": {
      "image/png": "[encoded data removed]",
      "text/plain": [
       "<Figure size 640x480 with 1 Axes>"
      ]
     },
     "metadata": {},
     "output_type": "display_data"
    }
   ],
   "source": [
    "#replace outlier pada kolom pregnancies\n",
    "sns.boxplot(dt['gap'], orient = 'h', color = '#FF5B00');"
   ]
  },
  {
   "cell_type": "code",
   "execution_count": 75,
   "id": "d0b6cd0f",
   "metadata": {},
   "outputs": [
    {
     "name": "stdout",
     "output_type": "stream",
     "text": [
      "persentase outliers setelah ditangani :\n",
      "latitude : 0.00 %\n",
      "longitude : 0.00 %\n",
      "magnitude : 0.00 %\n",
      "magType : 3.61 %\n",
      "depth : 0.00 %\n",
      "nst : 14.70 %\n",
      "gap : 0.00 %\n",
      "alert : 21.69 %\n"
     ]
    }
   ],
   "source": [
    "#presentase outlier\n",
    "print('persentase outliers setelah ditangani :')\n",
    "persentase_outlier(dt)"
   ]
  },
  {
   "cell_type": "markdown",
   "id": "e19d5cd8",
   "metadata": {},
   "source": [
    "### Resampling Data"
   ]
  },
  {
   "cell_type": "code",
   "execution_count": 76,
   "id": "befdd208",
   "metadata": {},
   "outputs": [],
   "source": [
    "from sklearn.preprocessing import StandardScaler\n",
    "\n",
    "#split dataset menjadi variabel x dan y\n",
    "x = dt.iloc[:,:-1]\n",
    "y = dt['alert']\n",
    "\n",
    "#normalisasi data dengan standartscaler menjadi skala 0-1\n",
    "sc = StandardScaler()\n",
    "x_scaled  = pd.DataFrame(sc.fit_transform(x), columns=x.columns)"
   ]
  },
  {
   "cell_type": "code",
   "execution_count": 77,
   "id": "0ef401d0",
   "metadata": {},
   "outputs": [
    {
     "data": {
      "text/html": [
       "<div>\n",
       "<style scoped>\n",
       "    .dataframe tbody tr th:only-of-type {\n",
       "        vertical-align: middle;\n",
       "    }\n",
       "\n",
       "    .dataframe tbody tr th {\n",
       "        vertical-align: top;\n",
       "    }\n",
       "\n",
       "    .dataframe thead th {\n",
       "        text-align: right;\n",
       "    }\n",
       "</style>\n",
       "<table border=\"1\" class=\"dataframe\">\n",
       "  <thead>\n",
       "    <tr style=\"text-align: right;\">\n",
       "      <th></th>\n",
       "      <th>latitude</th>\n",
       "      <th>longitude</th>\n",
       "      <th>magnitude</th>\n",
       "      <th>magType</th>\n",
       "      <th>depth</th>\n",
       "      <th>nst</th>\n",
       "      <th>gap</th>\n",
       "    </tr>\n",
       "  </thead>\n",
       "  <tbody>\n",
       "    <tr>\n",
       "      <th>0</th>\n",
       "      <td>-0.374921</td>\n",
       "      <td>0.973224</td>\n",
       "      <td>0.263032</td>\n",
       "      <td>0.181898</td>\n",
       "      <td>-0.693701</td>\n",
       "      <td>0.510171</td>\n",
       "      <td>-0.550910</td>\n",
       "    </tr>\n",
       "    <tr>\n",
       "      <th>1</th>\n",
       "      <td>-0.207412</td>\n",
       "      <td>0.505608</td>\n",
       "      <td>0.004363</td>\n",
       "      <td>0.181898</td>\n",
       "      <td>-0.510907</td>\n",
       "      <td>0.379569</td>\n",
       "      <td>0.734449</td>\n",
       "    </tr>\n",
       "    <tr>\n",
       "      <th>2</th>\n",
       "      <td>-0.729790</td>\n",
       "      <td>-1.711663</td>\n",
       "      <td>0.263032</td>\n",
       "      <td>0.181898</td>\n",
       "      <td>2.036698</td>\n",
       "      <td>0.727842</td>\n",
       "      <td>-0.475300</td>\n",
       "    </tr>\n",
       "    <tr>\n",
       "      <th>3</th>\n",
       "      <td>-0.703524</td>\n",
       "      <td>-1.662270</td>\n",
       "      <td>1.039040</td>\n",
       "      <td>0.181898</td>\n",
       "      <td>-0.311496</td>\n",
       "      <td>0.742353</td>\n",
       "      <td>-0.248472</td>\n",
       "    </tr>\n",
       "    <tr>\n",
       "      <th>4</th>\n",
       "      <td>-0.921647</td>\n",
       "      <td>1.121649</td>\n",
       "      <td>-0.771645</td>\n",
       "      <td>0.181898</td>\n",
       "      <td>2.036698</td>\n",
       "      <td>0.611751</td>\n",
       "      <td>0.205184</td>\n",
       "    </tr>\n",
       "    <tr>\n",
       "      <th>...</th>\n",
       "      <td>...</td>\n",
       "      <td>...</td>\n",
       "      <td>...</td>\n",
       "      <td>...</td>\n",
       "      <td>...</td>\n",
       "      <td>...</td>\n",
       "      <td>...</td>\n",
       "    </tr>\n",
       "    <tr>\n",
       "      <th>410</th>\n",
       "      <td>-1.008135</td>\n",
       "      <td>-0.856062</td>\n",
       "      <td>-0.254306</td>\n",
       "      <td>0.181898</td>\n",
       "      <td>-0.178555</td>\n",
       "      <td>3.985646</td>\n",
       "      <td>-0.377008</td>\n",
       "    </tr>\n",
       "    <tr>\n",
       "      <th>411</th>\n",
       "      <td>0.448165</td>\n",
       "      <td>-1.024826</td>\n",
       "      <td>1.297709</td>\n",
       "      <td>0.181898</td>\n",
       "      <td>-0.527525</td>\n",
       "      <td>5.110278</td>\n",
       "      <td>0.091770</td>\n",
       "    </tr>\n",
       "    <tr>\n",
       "      <th>412</th>\n",
       "      <td>-0.008153</td>\n",
       "      <td>0.439865</td>\n",
       "      <td>2.461721</td>\n",
       "      <td>-1.858307</td>\n",
       "      <td>-0.509245</td>\n",
       "      <td>2.135446</td>\n",
       "      <td>-0.709689</td>\n",
       "    </tr>\n",
       "    <tr>\n",
       "      <th>413</th>\n",
       "      <td>0.044621</td>\n",
       "      <td>0.444632</td>\n",
       "      <td>2.461721</td>\n",
       "      <td>-5.938718</td>\n",
       "      <td>-0.593995</td>\n",
       "      <td>3.281845</td>\n",
       "      <td>-0.581154</td>\n",
       "    </tr>\n",
       "    <tr>\n",
       "      <th>414</th>\n",
       "      <td>1.081397</td>\n",
       "      <td>-1.210734</td>\n",
       "      <td>0.780371</td>\n",
       "      <td>-5.938718</td>\n",
       "      <td>-0.760387</td>\n",
       "      <td>-0.266188</td>\n",
       "      <td>2.322246</td>\n",
       "    </tr>\n",
       "  </tbody>\n",
       "</table>\n",
       "<p>415 rows × 7 columns</p>\n",
       "</div>"
      ],
      "text/plain": [
       "     latitude  longitude  magnitude   magType     depth       nst       gap\n",
       "0   -0.374921   0.973224   0.263032  0.181898 -0.693701  0.510171 -0.550910\n",
       "1   -0.207412   0.505608   0.004363  0.181898 -0.510907  0.379569  0.734449\n",
       "2   -0.729790  -1.711663   0.263032  0.181898  2.036698  0.727842 -0.475300\n",
       "3   -0.703524  -1.662270   1.039040  0.181898 -0.311496  0.742353 -0.248472\n",
       "4   -0.921647   1.121649  -0.771645  0.181898  2.036698  0.611751  0.205184\n",
       "..        ...        ...        ...       ...       ...       ...       ...\n",
       "410 -1.008135  -0.856062  -0.254306  0.181898 -0.178555  3.985646 -0.377008\n",
       "411  0.448165  -1.024826   1.297709  0.181898 -0.527525  5.110278  0.091770\n",
       "412 -0.008153   0.439865   2.461721 -1.858307 -0.509245  2.135446 -0.709689\n",
       "413  0.044621   0.444632   2.461721 -5.938718 -0.593995  3.281845 -0.581154\n",
       "414  1.081397  -1.210734   0.780371 -5.938718 -0.760387 -0.266188  2.322246\n",
       "\n",
       "[415 rows x 7 columns]"
      ]
     },
     "execution_count": 77,
     "metadata": {},
     "output_type": "execute_result"
    }
   ],
   "source": [
    "x_scaled"
   ]
  },
  {
   "cell_type": "code",
   "execution_count": 78,
   "id": "0640a942",
   "metadata": {},
   "outputs": [],
   "source": [
    "import pickle\n",
    "\n",
    "# Simpan StandardScaler ke dalam file\n",
    "with open('scaler2.pkl', 'wb') as f:\n",
    "    pickle.dump(sc, f)"
   ]
  },
  {
   "cell_type": "code",
   "execution_count": 79,
   "id": "95dffad7",
   "metadata": {},
   "outputs": [
    {
     "name": "stdout",
     "output_type": "stream",
     "text": [
      "Mean values used by StandardScaler: [ 1.03759735 37.09797012  6.89831325  3.91084337 55.74490361 46.68674699\n",
      " 24.28626506]\n",
      "Standard deviation values used by StandardScaler: [ 28.89651557 125.86822764   0.38659408   0.49014678  60.1771043\n",
      " 137.82287635  13.22587567]\n"
     ]
    }
   ],
   "source": [
    "# Melihat nilai rata-rata dan standar deviasi yang digunakan\n",
    "print(\"Mean values used by StandardScaler:\", sc.mean_)\n",
    "print(\"Standard deviation values used by StandardScaler:\", sc.scale_)"
   ]
  },
  {
   "cell_type": "code",
   "execution_count": 80,
   "id": "d88e71c3",
   "metadata": {},
   "outputs": [
    {
     "name": "stdout",
     "output_type": "stream",
     "text": [
      "0    325\n",
      "3     56\n",
      "1     22\n",
      "2     12\n",
      "Name: alert, dtype: int64\n"
     ]
    },
    {
     "data": {
      "image/png": "[encoded data removed]",
      "text/plain": [
       "<Figure size 1000x600 with 1 Axes>"
      ]
     },
     "metadata": {},
     "output_type": "display_data"
    }
   ],
   "source": [
    "# Melihat distribusi setiap kelas \n",
    "alert_distribution = y.value_counts()\n",
    "print(alert_distribution)\n",
    "\n",
    "# Visualisasi distribusi kelas\n",
    "plt.figure(figsize=(10, 6))\n",
    "alert_distribution.plot(kind='bar', color=['green', 'red', 'yellow', 'orange'])\n",
    "plt.title('Distribusi Kelas alert')\n",
    "plt.xlabel('Kategori alert')\n",
    "plt.ylabel('Jumlah')\n",
    "plt.xticks(rotation=0)\n",
    "plt.show()"
   ]
  },
  {
   "cell_type": "code",
   "execution_count": 81,
   "id": "3af6465f",
   "metadata": {},
   "outputs": [
    {
     "data": {
      "image/png": "[encoded data removed]",
      "text/plain": [
       "<Figure size 1000x600 with 1 Axes>"
      ]
     },
     "metadata": {},
     "output_type": "display_data"
    }
   ],
   "source": [
    "from imblearn.over_sampling import SMOTE\n",
    "\n",
    "# Terapkan SMOTE pada data\n",
    "smote = SMOTE(random_state=42)\n",
    "X_resampled, y_resampled = smote.fit_resample(x_scaled, y)\n",
    "\n",
    "# Buat DataFrame baru dengan data resampled\n",
    "df_resampled = X_resampled.copy()\n",
    "df_resampled['alert'] = y_resampled\n",
    "\n",
    "# Visualisasikan distribusi kelas setelah SMOTE\n",
    "plt.figure(figsize=(10, 6))\n",
    "y_resampled.value_counts().plot(kind='bar', color=['red', 'orange', 'yellow', 'green'])\n",
    "plt.title('Distribusi Kelas Alert Setelah SMOTE')\n",
    "plt.xlabel('Kategori alert')\n",
    "plt.ylabel('Jumlah')\n",
    "plt.xticks(rotation=0)\n",
    "plt.show()"
   ]
  },
  {
   "cell_type": "code",
   "execution_count": 82,
   "id": "8a34957c",
   "metadata": {},
   "outputs": [
    {
     "name": "stdout",
     "output_type": "stream",
     "text": [
      "0    325\n",
      "3    325\n",
      "1    325\n",
      "2    325\n",
      "Name: alert, dtype: int64\n"
     ]
    }
   ],
   "source": [
    "# Melihat distribusi setiap kelas setelah resampling\n",
    "alert_distribution1 = y_resampled.value_counts()\n",
    "print(alert_distribution1)"
   ]
  },
  {
   "cell_type": "code",
   "execution_count": 83,
   "id": "1098c1ec",
   "metadata": {},
   "outputs": [
    {
     "data": {
      "text/html": [
       "<div>\n",
       "<style scoped>\n",
       "    .dataframe tbody tr th:only-of-type {\n",
       "        vertical-align: middle;\n",
       "    }\n",
       "\n",
       "    .dataframe tbody tr th {\n",
       "        vertical-align: top;\n",
       "    }\n",
       "\n",
       "    .dataframe thead th {\n",
       "        text-align: right;\n",
       "    }\n",
       "</style>\n",
       "<table border=\"1\" class=\"dataframe\">\n",
       "  <thead>\n",
       "    <tr style=\"text-align: right;\">\n",
       "      <th></th>\n",
       "      <th>latitude</th>\n",
       "      <th>longitude</th>\n",
       "      <th>magnitude</th>\n",
       "      <th>magType</th>\n",
       "      <th>depth</th>\n",
       "      <th>nst</th>\n",
       "      <th>gap</th>\n",
       "      <th>alert</th>\n",
       "    </tr>\n",
       "  </thead>\n",
       "  <tbody>\n",
       "    <tr>\n",
       "      <th>0</th>\n",
       "      <td>-0.374921</td>\n",
       "      <td>0.973224</td>\n",
       "      <td>0.263032</td>\n",
       "      <td>0.181898</td>\n",
       "      <td>-0.693701</td>\n",
       "      <td>0.510171</td>\n",
       "      <td>-0.550910</td>\n",
       "      <td>0</td>\n",
       "    </tr>\n",
       "    <tr>\n",
       "      <th>1</th>\n",
       "      <td>-0.207412</td>\n",
       "      <td>0.505608</td>\n",
       "      <td>0.004363</td>\n",
       "      <td>0.181898</td>\n",
       "      <td>-0.510907</td>\n",
       "      <td>0.379569</td>\n",
       "      <td>0.734449</td>\n",
       "      <td>0</td>\n",
       "    </tr>\n",
       "    <tr>\n",
       "      <th>2</th>\n",
       "      <td>-0.729790</td>\n",
       "      <td>-1.711663</td>\n",
       "      <td>0.263032</td>\n",
       "      <td>0.181898</td>\n",
       "      <td>2.036698</td>\n",
       "      <td>0.727842</td>\n",
       "      <td>-0.475300</td>\n",
       "      <td>0</td>\n",
       "    </tr>\n",
       "    <tr>\n",
       "      <th>3</th>\n",
       "      <td>-0.703524</td>\n",
       "      <td>-1.662270</td>\n",
       "      <td>1.039040</td>\n",
       "      <td>0.181898</td>\n",
       "      <td>-0.311496</td>\n",
       "      <td>0.742353</td>\n",
       "      <td>-0.248472</td>\n",
       "      <td>0</td>\n",
       "    </tr>\n",
       "    <tr>\n",
       "      <th>4</th>\n",
       "      <td>-0.921647</td>\n",
       "      <td>1.121649</td>\n",
       "      <td>-0.771645</td>\n",
       "      <td>0.181898</td>\n",
       "      <td>2.036698</td>\n",
       "      <td>0.611751</td>\n",
       "      <td>0.205184</td>\n",
       "      <td>0</td>\n",
       "    </tr>\n",
       "    <tr>\n",
       "      <th>...</th>\n",
       "      <td>...</td>\n",
       "      <td>...</td>\n",
       "      <td>...</td>\n",
       "      <td>...</td>\n",
       "      <td>...</td>\n",
       "      <td>...</td>\n",
       "      <td>...</td>\n",
       "      <td>...</td>\n",
       "    </tr>\n",
       "    <tr>\n",
       "      <th>1295</th>\n",
       "      <td>0.394116</td>\n",
       "      <td>-0.828012</td>\n",
       "      <td>1.453613</td>\n",
       "      <td>-0.637874</td>\n",
       "      <td>-0.536427</td>\n",
       "      <td>4.865385</td>\n",
       "      <td>0.001641</td>\n",
       "      <td>3</td>\n",
       "    </tr>\n",
       "    <tr>\n",
       "      <th>1296</th>\n",
       "      <td>-0.194530</td>\n",
       "      <td>0.925560</td>\n",
       "      <td>2.461721</td>\n",
       "      <td>0.181898</td>\n",
       "      <td>0.675085</td>\n",
       "      <td>-0.338745</td>\n",
       "      <td>-0.867023</td>\n",
       "      <td>3</td>\n",
       "    </tr>\n",
       "    <tr>\n",
       "      <th>1297</th>\n",
       "      <td>-0.115268</td>\n",
       "      <td>-0.858243</td>\n",
       "      <td>1.580250</td>\n",
       "      <td>0.181898</td>\n",
       "      <td>1.478825</td>\n",
       "      <td>-0.338745</td>\n",
       "      <td>-0.714090</td>\n",
       "      <td>3</td>\n",
       "    </tr>\n",
       "    <tr>\n",
       "      <th>1298</th>\n",
       "      <td>0.743544</td>\n",
       "      <td>-0.683190</td>\n",
       "      <td>-0.610355</td>\n",
       "      <td>0.181898</td>\n",
       "      <td>0.007761</td>\n",
       "      <td>-0.338745</td>\n",
       "      <td>1.329541</td>\n",
       "      <td>3</td>\n",
       "    </tr>\n",
       "    <tr>\n",
       "      <th>1299</th>\n",
       "      <td>0.276627</td>\n",
       "      <td>0.657880</td>\n",
       "      <td>-1.030314</td>\n",
       "      <td>0.181898</td>\n",
       "      <td>-0.683379</td>\n",
       "      <td>-0.338745</td>\n",
       "      <td>0.756753</td>\n",
       "      <td>3</td>\n",
       "    </tr>\n",
       "  </tbody>\n",
       "</table>\n",
       "<p>1300 rows × 8 columns</p>\n",
       "</div>"
      ],
      "text/plain": [
       "      latitude  longitude  magnitude   magType     depth       nst       gap  \\\n",
       "0    -0.374921   0.973224   0.263032  0.181898 -0.693701  0.510171 -0.550910   \n",
       "1    -0.207412   0.505608   0.004363  0.181898 -0.510907  0.379569  0.734449   \n",
       "2    -0.729790  -1.711663   0.263032  0.181898  2.036698  0.727842 -0.475300   \n",
       "3    -0.703524  -1.662270   1.039040  0.181898 -0.311496  0.742353 -0.248472   \n",
       "4    -0.921647   1.121649  -0.771645  0.181898  2.036698  0.611751  0.205184   \n",
       "...        ...        ...        ...       ...       ...       ...       ...   \n",
       "1295  0.394116  -0.828012   1.453613 -0.637874 -0.536427  4.865385  0.001641   \n",
       "1296 -0.194530   0.925560   2.461721  0.181898  0.675085 -0.338745 -0.867023   \n",
       "1297 -0.115268  -0.858243   1.580250  0.181898  1.478825 -0.338745 -0.714090   \n",
       "1298  0.743544  -0.683190  -0.610355  0.181898  0.007761 -0.338745  1.329541   \n",
       "1299  0.276627   0.657880  -1.030314  0.181898 -0.683379 -0.338745  0.756753   \n",
       "\n",
       "      alert  \n",
       "0         0  \n",
       "1         0  \n",
       "2         0  \n",
       "3         0  \n",
       "4         0  \n",
       "...     ...  \n",
       "1295      3  \n",
       "1296      3  \n",
       "1297      3  \n",
       "1298      3  \n",
       "1299      3  \n",
       "\n",
       "[1300 rows x 8 columns]"
      ]
     },
     "execution_count": 83,
     "metadata": {},
     "output_type": "execute_result"
    }
   ],
   "source": [
    "df_resampled"
   ]
  },
  {
   "cell_type": "markdown",
   "id": "69fbdbfc",
   "metadata": {},
   "source": [
    "### Split Data"
   ]
  },
  {
   "cell_type": "code",
   "execution_count": 84,
   "id": "e2110564",
   "metadata": {},
   "outputs": [],
   "source": [
    "from sklearn.model_selection import train_test_split\n",
    "\n",
    "# Membagi data menjadi training dan testing set\n",
    "X_train, X_test, y_train, y_test = train_test_split(X_resampled, y_resampled, test_size=0.2, random_state=42)"
   ]
  },
  {
   "cell_type": "markdown",
   "id": "3c84b103",
   "metadata": {},
   "source": [
    "### Random Forest"
   ]
  },
  {
   "cell_type": "code",
   "execution_count": 85,
   "id": "3cd3eed1",
   "metadata": {},
   "outputs": [],
   "source": [
    "from sklearn.ensemble import RandomForestClassifier\n",
    "from sklearn.metrics import classification_report, confusion_matrix, accuracy_score\n",
    "\n",
    "# Inisialisasi model\n",
    "model1 = RandomForestClassifier(random_state=42)\n",
    "\n",
    "# Latih model dengan data training\n",
    "model1.fit(X_train, y_train)\n",
    "\n",
    "# Prediksi dengan data testing\n",
    "y_pred = model1.predict(X_test)"
   ]
  },
  {
   "cell_type": "code",
   "execution_count": 86,
   "id": "2e03b770",
   "metadata": {},
   "outputs": [
    {
     "name": "stdout",
     "output_type": "stream",
     "text": [
      "Accuracy: 0.9461538461538461\n",
      "Classification Report:\n",
      "              precision    recall  f1-score   support\n",
      "\n",
      "           0       0.96      0.94      0.95        68\n",
      "           1       0.93      0.93      0.93        73\n",
      "           2       0.98      0.98      0.98        64\n",
      "           3       0.91      0.93      0.92        55\n",
      "\n",
      "    accuracy                           0.95       260\n",
      "   macro avg       0.95      0.95      0.95       260\n",
      "weighted avg       0.95      0.95      0.95       260\n",
      "\n"
     ]
    }
   ],
   "source": [
    "# Evaluasi kinerja model\n",
    "print(\"Accuracy:\", accuracy_score(y_test, y_pred))\n",
    "print(\"Classification Report:\")\n",
    "print(classification_report(y_test, y_pred))"
   ]
  },
  {
   "cell_type": "code",
   "execution_count": 87,
   "id": "aa4dc66b",
   "metadata": {},
   "outputs": [
    {
     "data": {
      "image/png": "[encoded data removed]",
      "text/plain": [
       "<Figure size 640x480 with 2 Axes>"
      ]
     },
     "metadata": {},
     "output_type": "display_data"
    }
   ],
   "source": [
    "import matplotlib.pyplot as plt\n",
    "import seaborn as sns\n",
    "from sklearn.metrics import confusion_matrix\n",
    "\n",
    "# Hitung confusion matrix\n",
    "cm = confusion_matrix(y_test, y_pred)\n",
    "\n",
    "# Buat visualisasi confusion matrix\n",
    "sns.heatmap(cm, annot=True, fmt='d', cmap='Blues')\n",
    "\n",
    "plt.xlabel('Predicted')\n",
    "plt.ylabel('Actual')\n",
    "plt.title('Confusion Matrix')\n",
    "plt.show()"
   ]
  },
  {
   "cell_type": "code",
   "execution_count": 88,
   "id": "9b63f7dd",
   "metadata": {},
   "outputs": [
    {
     "data": {
      "text/plain": [
       "['rf2_model.pkl']"
      ]
     },
     "execution_count": 88,
     "metadata": {},
     "output_type": "execute_result"
    }
   ],
   "source": [
    "import joblib\n",
    "\n",
    "# Menyimpan model ke file\n",
    "joblib.dump(model1, 'rf2_model.pkl')"
   ]
  },
  {
   "cell_type": "markdown",
   "id": "57432cd4",
   "metadata": {},
   "source": [
    "#### Logistic Regression "
   ]
  },
  {
   "cell_type": "code",
   "execution_count": 89,
   "id": "ade0f7c9",
   "metadata": {},
   "outputs": [],
   "source": [
    "from sklearn.linear_model import LogisticRegression\n",
    "from sklearn.metrics import classification_report, confusion_matrix, accuracy_score\n",
    "\n",
    "# Inisialisasi model regresi logistik\n",
    "model2 = LogisticRegression(max_iter=1000, random_state=42)\n",
    "\n",
    "# Latih model dengan data training\n",
    "model2.fit(X_train, y_train)\n",
    "\n",
    "# Prediksi dengan data testing\n",
    "y_pred2 = model2.predict(X_test)"
   ]
  },
  {
   "cell_type": "code",
   "execution_count": 90,
   "id": "dcdce690",
   "metadata": {},
   "outputs": [
    {
     "name": "stdout",
     "output_type": "stream",
     "text": [
      "Model: Logistic Regression\n",
      "Accuracy: 0.6384615384615384\n",
      "Classification Report:\n",
      "              precision    recall  f1-score   support\n",
      "\n",
      "           0       0.71      0.72      0.72        68\n",
      "           1       0.64      0.56      0.60        73\n",
      "           2       0.70      0.81      0.75        64\n",
      "           3       0.45      0.44      0.44        55\n",
      "\n",
      "    accuracy                           0.64       260\n",
      "   macro avg       0.63      0.63      0.63       260\n",
      "weighted avg       0.63      0.64      0.63       260\n",
      "\n"
     ]
    }
   ],
   "source": [
    "# Evaluasi model\n",
    "accuracy2 = accuracy_score(y_test, y_pred2)\n",
    "classification_report2 = classification_report(y_test, y_pred2)\n",
    "confusion_matrix2 = confusion_matrix(y_test, y_pred2)\n",
    "\n",
    "# Cetak hasil evaluasi\n",
    "print(\"Model: Logistic Regression\")\n",
    "print(f\"Accuracy: {accuracy2}\")\n",
    "print(\"Classification Report:\")\n",
    "print(classification_report2)"
   ]
  },
  {
   "cell_type": "code",
   "execution_count": 91,
   "id": "28e6a5e2",
   "metadata": {},
   "outputs": [
    {
     "data": {
      "image/png": "[encoded data removed]",
      "text/plain": [
       "<Figure size 640x480 with 2 Axes>"
      ]
     },
     "metadata": {},
     "output_type": "display_data"
    }
   ],
   "source": [
    "import matplotlib.pyplot as plt\n",
    "\n",
    "# Hitung confusion matrix\n",
    "cm2 = confusion_matrix(y_test, y_pred2)\n",
    "\n",
    "# Buat visualisasi confusion matrix\n",
    "sns.heatmap(cm2, annot=True, fmt='d', cmap='Blues')\n",
    "\n",
    "plt.xlabel('Predicted')\n",
    "plt.ylabel('Actual')\n",
    "plt.title('Confusion Matrix')\n",
    "plt.show()"
   ]
  },
  {
   "cell_type": "markdown",
   "id": "1eb115dc",
   "metadata": {},
   "source": [
    "### Decision Tree"
   ]
  },
  {
   "cell_type": "code",
   "execution_count": 92,
   "id": "3079485b",
   "metadata": {},
   "outputs": [],
   "source": [
    "from sklearn.tree import DecisionTreeClassifier\n",
    "from sklearn.metrics import classification_report, confusion_matrix, accuracy_score\n",
    "\n",
    "# Inisialisasi model Decision Tree\n",
    "model3 = DecisionTreeClassifier(random_state=42)\n",
    "\n",
    "# Latih model dengan data training\n",
    "model3.fit(X_train, y_train)\n",
    "\n",
    "# Prediksi dengan data testing\n",
    "y_pred3 = model3.predict(X_test)"
   ]
  },
  {
   "cell_type": "code",
   "execution_count": 93,
   "id": "c622bdba",
   "metadata": {},
   "outputs": [
    {
     "name": "stdout",
     "output_type": "stream",
     "text": [
      "Model: Decision Tree\n",
      "Accuracy: 0.8346153846153846\n",
      "Classification Report:\n",
      "              precision    recall  f1-score   support\n",
      "\n",
      "           0       0.87      0.79      0.83        68\n",
      "           1       0.80      0.84      0.82        73\n",
      "           2       0.93      0.89      0.91        64\n",
      "           3       0.74      0.82      0.78        55\n",
      "\n",
      "    accuracy                           0.83       260\n",
      "   macro avg       0.84      0.83      0.83       260\n",
      "weighted avg       0.84      0.83      0.84       260\n",
      "\n"
     ]
    }
   ],
   "source": [
    "# Evaluasi model\n",
    "accuracy3 = accuracy_score(y_test, y_pred3)\n",
    "classification_report3 = classification_report(y_test, y_pred3)\n",
    "confusion_matrix3 = confusion_matrix(y_test, y_pred3)\n",
    "\n",
    "# Cetak hasil evaluasi\n",
    "print(\"Model: Decision Tree\")\n",
    "print(f\"Accuracy: {accuracy3}\")\n",
    "print(\"Classification Report:\")\n",
    "print(classification_report3)"
   ]
  },
  {
   "cell_type": "code",
   "execution_count": 94,
   "id": "31760f90",
   "metadata": {},
   "outputs": [
    {
     "data": {
      "image/png": "[encoded data removed]",
      "text/plain": [
       "<Figure size 640x480 with 2 Axes>"
      ]
     },
     "metadata": {},
     "output_type": "display_data"
    }
   ],
   "source": [
    "import matplotlib.pyplot as plt\n",
    "\n",
    "# Hitung confusion matrix\n",
    "cm3 = confusion_matrix(y_test, y_pred3)\n",
    "\n",
    "# Buat visualisasi confusion matrix\n",
    "sns.heatmap(cm3, annot=True, fmt='d', cmap='Blues')\n",
    "\n",
    "plt.xlabel('Predicted')\n",
    "plt.ylabel('Actual')\n",
    "plt.title('Confusion Matrix')\n",
    "plt.show()"
   ]
  },
  {
   "cell_type": "markdown",
   "id": "67e22ff9",
   "metadata": {},
   "source": [
    "### SVM"
   ]
  },
  {
   "cell_type": "code",
   "execution_count": 95,
   "id": "45a16d1d",
   "metadata": {},
   "outputs": [],
   "source": [
    "from sklearn.svm import SVC\n",
    "from sklearn.metrics import classification_report, confusion_matrix, accuracy_score\n",
    "\n",
    "# Inisialisasi model SVM\n",
    "model4 = SVC(random_state=42)\n",
    "\n",
    "# Latih model dengan data training\n",
    "model4.fit(X_train, y_train)\n",
    "\n",
    "# Prediksi dengan data testing\n",
    "y_pred4 = model4.predict(X_test)"
   ]
  },
  {
   "cell_type": "code",
   "execution_count": 96,
   "id": "34b6d610",
   "metadata": {},
   "outputs": [
    {
     "name": "stdout",
     "output_type": "stream",
     "text": [
      "Model: Support Vector Machine\n",
      "Accuracy: 0.8576923076923076\n",
      "Classification Report:\n",
      "              precision    recall  f1-score   support\n",
      "\n",
      "           0       0.84      0.85      0.85        68\n",
      "           1       0.85      0.82      0.83        73\n",
      "           2       0.93      0.98      0.95        64\n",
      "           3       0.81      0.76      0.79        55\n",
      "\n",
      "    accuracy                           0.86       260\n",
      "   macro avg       0.85      0.86      0.85       260\n",
      "weighted avg       0.86      0.86      0.86       260\n",
      "\n"
     ]
    }
   ],
   "source": [
    "# Evaluasi model\n",
    "accuracy4 = accuracy_score(y_test, y_pred4)\n",
    "classification_report4 = classification_report(y_test, y_pred4)\n",
    "confusion_matrix4 = confusion_matrix(y_test, y_pred4)\n",
    "\n",
    "# Cetak hasil evaluasi\n",
    "print(\"Model: Support Vector Machine\")\n",
    "print(f\"Accuracy: {accuracy4}\")\n",
    "print(\"Classification Report:\")\n",
    "print(classification_report4)"
   ]
  },
  {
   "cell_type": "code",
   "execution_count": 97,
   "id": "747fff05",
   "metadata": {},
   "outputs": [
    {
     "data": {
      "image/png": "[encoded data removed]",
      "text/plain": [
       "<Figure size 640x480 with 2 Axes>"
      ]
     },
     "metadata": {},
     "output_type": "display_data"
    }
   ],
   "source": [
    "import matplotlib.pyplot as plt\n",
    "\n",
    "# Hitung confusion matrix\n",
    "cm4 = confusion_matrix(y_test, y_pred4)\n",
    "\n",
    "# Buat visualisasi confusion matrix\n",
    "sns.heatmap(cm4, annot=True, fmt='d', cmap='Blues')\n",
    "\n",
    "plt.xlabel('Predicted')\n",
    "plt.ylabel('Actual')\n",
    "plt.title('Confusion Matrix')\n",
    "plt.show()"
   ]
  },
  {
   "cell_type": "markdown",
   "id": "53f603b2",
   "metadata": {},
   "source": [
    "### KNN"
   ]
  },
  {
   "cell_type": "code",
   "execution_count": 98,
   "id": "ff48b3a9",
   "metadata": {},
   "outputs": [],
   "source": [
    "from sklearn.neighbors import KNeighborsClassifier\n",
    "from sklearn.metrics import classification_report, confusion_matrix, accuracy_score\n",
    "\n",
    "# Inisialisasi model K-Nearest Neighbors\n",
    "model5 = KNeighborsClassifier()\n",
    "\n",
    "# Latih model dengan data training\n",
    "model5.fit(X_train, y_train)\n",
    "\n",
    "# Prediksi dengan data testing\n",
    "y_pred5 = model5.predict(X_test)"
   ]
  },
  {
   "cell_type": "code",
   "execution_count": 99,
   "id": "0b965fca",
   "metadata": {},
   "outputs": [
    {
     "name": "stdout",
     "output_type": "stream",
     "text": [
      "Model: K-Nearest Neighbors\n",
      "Accuracy: 0.8884615384615384\n",
      "Classification Report:\n",
      "              precision    recall  f1-score   support\n",
      "\n",
      "           0       0.98      0.76      0.86        68\n",
      "           1       0.85      0.92      0.88        73\n",
      "           2       0.93      1.00      0.96        64\n",
      "           3       0.81      0.87      0.84        55\n",
      "\n",
      "    accuracy                           0.89       260\n",
      "   macro avg       0.89      0.89      0.89       260\n",
      "weighted avg       0.90      0.89      0.89       260\n",
      "\n"
     ]
    }
   ],
   "source": [
    "# Evaluasi model\n",
    "accuracy5 = accuracy_score(y_test, y_pred5)\n",
    "classification_report5 = classification_report(y_test, y_pred5)\n",
    "confusion_matrix5 = confusion_matrix(y_test, y_pred5)\n",
    "\n",
    "# Cetak hasil evaluasi\n",
    "print(\"Model: K-Nearest Neighbors\")\n",
    "print(f\"Accuracy: {accuracy5}\")\n",
    "print(\"Classification Report:\")\n",
    "print(classification_report5)\n"
   ]
  },
  {
   "cell_type": "code",
   "execution_count": 100,
   "id": "3ead8000",
   "metadata": {},
   "outputs": [
    {
     "data": {
      "image/png": "[encoded data removed]",
      "text/plain": [
       "<Figure size 640x480 with 2 Axes>"
      ]
     },
     "metadata": {},
     "output_type": "display_data"
    }
   ],
   "source": [
    "import matplotlib.pyplot as plt\n",
    "\n",
    "# Hitung confusion matrix\n",
    "cm5 = confusion_matrix(y_test, y_pred5)\n",
    "\n",
    "# Buat visualisasi confusion matrix\n",
    "sns.heatmap(cm5, annot=True, fmt='d', cmap='Blues')\n",
    "\n",
    "plt.xlabel('Predicted')\n",
    "plt.ylabel('Actual')\n",
    "plt.title('Confusion Matrix')\n",
    "plt.show()"
   ]
  },
  {
   "cell_type": "markdown",
   "id": "a7f15f90",
   "metadata": {},
   "source": [
    "### K-FOLD CROSS VALIDATION"
   ]
  },
  {
   "cell_type": "code",
   "execution_count": 101,
   "id": "e26ae04d",
   "metadata": {},
   "outputs": [
    {
     "name": "stdout",
     "output_type": "stream",
     "text": [
      "Cross Validation Scores: [0.95       0.90384615 0.9        0.93076923 0.91153846]\n",
      "Mean Accuracy: 0.9192307692307693\n",
      "Standard Deviation: 0.018684550463832474\n"
     ]
    }
   ],
   "source": [
    "from sklearn.model_selection import cross_val_score, KFold\n",
    "from sklearn.metrics import accuracy_score, classification_report, confusion_matrix\n",
    "\n",
    "# Inisialisasi KFold\n",
    "kf = KFold(n_splits=5, shuffle=True, random_state=42)\n",
    "\n",
    "# Evaluasi kinerja model menggunakan cross_val_score\n",
    "scores = cross_val_score(model1, X_resampled, y_resampled, cv=kf, scoring='accuracy')\n",
    "\n",
    "# Menampilkan hasil cross validation\n",
    "print(\"Cross Validation Scores:\", scores)\n",
    "print(\"Mean Accuracy:\", scores.mean())\n",
    "print(\"Standard Deviation:\", scores.std())"
   ]
  },
  {
   "cell_type": "code",
   "execution_count": 102,
   "id": "6066e89f",
   "metadata": {},
   "outputs": [
    {
     "name": "stdout",
     "output_type": "stream",
     "text": [
      "Accuracy: 0.95\n",
      "Classification Report:\n",
      "              precision    recall  f1-score   support\n",
      "\n",
      "           0       0.95      0.93      0.94        68\n",
      "           1       0.95      0.95      0.95        73\n",
      "           2       0.98      0.98      0.98        64\n",
      "           3       0.91      0.95      0.93        55\n",
      "\n",
      "    accuracy                           0.95       260\n",
      "   macro avg       0.95      0.95      0.95       260\n",
      "weighted avg       0.95      0.95      0.95       260\n",
      "\n",
      "Confusion Matrix:\n",
      "[[63  2  0  3]\n",
      " [ 2 69  1  1]\n",
      " [ 0  0 63  1]\n",
      " [ 1  2  0 52]]\n"
     ]
    },
    {
     "data": {
      "image/png": "[encoded data removed]",
      "text/plain": [
       "<Figure size 1000x700 with 2 Axes>"
      ]
     },
     "metadata": {},
     "output_type": "display_data"
    },
    {
     "name": "stdout",
     "output_type": "stream",
     "text": [
      "Accuracy: 0.9038461538461539\n",
      "Classification Report:\n",
      "              precision    recall  f1-score   support\n",
      "\n",
      "           0       0.95      0.87      0.91        69\n",
      "           1       0.86      0.93      0.90        61\n",
      "           2       0.90      1.00      0.95        62\n",
      "           3       0.90      0.82      0.86        68\n",
      "\n",
      "    accuracy                           0.90       260\n",
      "   macro avg       0.90      0.91      0.90       260\n",
      "weighted avg       0.91      0.90      0.90       260\n",
      "\n",
      "Confusion Matrix:\n",
      "[[60  4  0  5]\n",
      " [ 1 57  2  1]\n",
      " [ 0  0 62  0]\n",
      " [ 2  5  5 56]]\n"
     ]
    },
    {
     "data": {
      "image/png": "[encoded data removed]",
      "text/plain": [
       "<Figure size 1000x700 with 2 Axes>"
      ]
     },
     "metadata": {},
     "output_type": "display_data"
    },
    {
     "name": "stdout",
     "output_type": "stream",
     "text": [
      "Accuracy: 0.9\n",
      "Classification Report:\n",
      "              precision    recall  f1-score   support\n",
      "\n",
      "           0       0.89      0.87      0.88        67\n",
      "           1       0.82      0.94      0.87        63\n",
      "           2       0.97      0.94      0.95        63\n",
      "           3       0.94      0.87      0.90        67\n",
      "\n",
      "    accuracy                           0.90       260\n",
      "   macro avg       0.90      0.90      0.90       260\n",
      "weighted avg       0.90      0.90      0.90       260\n",
      "\n",
      "Confusion Matrix:\n",
      "[[58  4  1  4]\n",
      " [ 3 59  1  0]\n",
      " [ 2  2 59  0]\n",
      " [ 2  7  0 58]]\n"
     ]
    },
    {
     "data": {
      "image/png": "[encoded data removed]",
      "text/plain": [
       "<Figure size 1000x700 with 2 Axes>"
      ]
     },
     "metadata": {},
     "output_type": "display_data"
    },
    {
     "name": "stdout",
     "output_type": "stream",
     "text": [
      "Accuracy: 0.9307692307692308\n",
      "Classification Report:\n",
      "              precision    recall  f1-score   support\n",
      "\n",
      "           0       0.87      0.90      0.88        59\n",
      "           1       0.96      0.96      0.96        68\n",
      "           2       0.99      0.99      0.99        72\n",
      "           3       0.90      0.87      0.88        61\n",
      "\n",
      "    accuracy                           0.93       260\n",
      "   macro avg       0.93      0.93      0.93       260\n",
      "weighted avg       0.93      0.93      0.93       260\n",
      "\n",
      "Confusion Matrix:\n",
      "[[53  1  0  5]\n",
      " [ 2 65  1  0]\n",
      " [ 0  0 71  1]\n",
      " [ 6  2  0 53]]\n"
     ]
    },
    {
     "data": {
      "image/png": "[encoded data removed]",
      "text/plain": [
       "<Figure size 1000x700 with 2 Axes>"
      ]
     },
     "metadata": {},
     "output_type": "display_data"
    },
    {
     "name": "stdout",
     "output_type": "stream",
     "text": [
      "Accuracy: 0.9115384615384615\n",
      "Classification Report:\n",
      "              precision    recall  f1-score   support\n",
      "\n",
      "           0       0.92      0.87      0.89        62\n",
      "           1       0.89      0.97      0.93        60\n",
      "           2       0.93      1.00      0.96        64\n",
      "           3       0.91      0.82      0.87        74\n",
      "\n",
      "    accuracy                           0.91       260\n",
      "   macro avg       0.91      0.92      0.91       260\n",
      "weighted avg       0.91      0.91      0.91       260\n",
      "\n",
      "Confusion Matrix:\n",
      "[[54  2  0  6]\n",
      " [ 0 58  2  0]\n",
      " [ 0  0 64  0]\n",
      " [ 5  5  3 61]]\n"
     ]
    },
    {
     "data": {
      "image/png": "[encoded data removed]",
      "text/plain": [
       "<Figure size 1000x700 with 2 Axes>"
      ]
     },
     "metadata": {},
     "output_type": "display_data"
    }
   ],
   "source": [
    "# Loop untuk setiap fold\n",
    "for train_index, test_index in kf.split(X_resampled):\n",
    "    x_train, x_test = X_resampled.iloc[train_index], X_resampled.iloc[test_index]\n",
    "    ytrain, ytest = y_resampled.iloc[train_index], y_resampled.iloc[test_index]\n",
    "    \n",
    "    model1.fit(x_train, ytrain)\n",
    "    ypred = model1.predict(x_test)\n",
    "    \n",
    "    print(\"Accuracy:\", accuracy_score(ytest, ypred))\n",
    "    print(\"Classification Report:\")\n",
    "    print(classification_report(ytest, ypred))\n",
    "    print(\"Confusion Matrix:\")\n",
    "    print(confusion_matrix(ytest, ypred))\n",
    "    \n",
    "    # Visualisasi confusion matrix\n",
    "    cm6 = confusion_matrix(ytest, ypred)\n",
    "    plt.figure(figsize=(10, 7))\n",
    "    sns.heatmap(cm6, annot=True, fmt='d', cmap='Blues')\n",
    "    plt.xlabel('Predicted')\n",
    "    plt.ylabel('Actual')\n",
    "    plt.title('Confusion Matrix')\n",
    "    plt.show()"
   ]
  },
  {
   "cell_type": "code",
   "execution_count": null,
   "id": "d177d029",
   "metadata": {},
   "outputs": [],
   "source": []
  }
 ],
 "metadata": {
  "kernelspec": {
   "display_name": "Python 3 (ipykernel)",
   "language": "python",
   "name": "python3"
  },
  "language_info": {
   "codemirror_mode": {
    "name": "ipython",
    "version": 3
   },
   "file_extension": ".py",
   "mimetype": "text/x-python",
   "name": "python",
   "nbconvert_exporter": "python",
   "pygments_lexer": "ipython3",
   "version": "3.10.6"
  }
 },
 "nbformat": 4,
 "nbformat_minor": 5
}
